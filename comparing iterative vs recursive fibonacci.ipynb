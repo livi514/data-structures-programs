{
 "cells": [
  {
   "cell_type": "markdown",
   "metadata": {},
   "source": [
    "Comparing iterative vs recursive fibonacci algorithms - Python version"
   ]
  },
  {
   "cell_type": "code",
   "execution_count": 1,
   "metadata": {},
   "outputs": [
    {
     "name": "stdout",
     "output_type": "stream",
     "text": [
      "1512714957886348605280222624574792321154075610626914093285524001279917220973240606381546855808399766922436786867077932515092859168320774869290543573214973988811551430710496378539280134724442752856791574659068569743923307115496998315294101735638681555443966833458219814323515443330857265109176823157925422603874604947448798010455562840615475335214605407075581541305170833439333939904924438253162123489848521081459268004124375630934201752573791208486432428927311602789747262328203624065366050893216503362403361071904548905736411967666387345601923144654086109692748403040534098102614513078787128483390340029202626856647692607\n"
     ]
    }
   ],
   "source": [
    "def fibonacci_iterative(n):\n",
    "    n_minus_2 = 0 \n",
    "    n_minus_1 = 1\n",
    "    for i in range(n):\n",
    "        temp = n_minus_2\n",
    "        n_minus_2 = n_minus_1\n",
    "        n_minus_1 = temp + n_minus_2\n",
    "    return n_minus_2\n",
    "    \n",
    "print(fibonacci_iterative(2974))"
   ]
  },
  {
   "cell_type": "code",
   "execution_count": 2,
   "metadata": {},
   "outputs": [
    {
     "name": "stdout",
     "output_type": "stream",
     "text": [
      "1512714957886348605280222624574792321154075610626914093285524001279917220973240606381546855808399766922436786867077932515092859168320774869290543573214973988811551430710496378539280134724442752856791574659068569743923307115496998315294101735638681555443966833458219814323515443330857265109176823157925422603874604947448798010455562840615475335214605407075581541305170833439333939904924438253162123489848521081459268004124375630934201752573791208486432428927311602789747262328203624065366050893216503362403361071904548905736411967666387345601923144654086109692748403040534098102614513078787128483390340029202626856647692607\n"
     ]
    }
   ],
   "source": [
    "def fibonacci_recursive(n, cache=None):\n",
    "    if cache is None:\n",
    "        cache = {}\n",
    "    if n in cache:\n",
    "        return cache[n]\n",
    "    if n < 2:\n",
    "        cache[n] = n\n",
    "    else:\n",
    "        cache[n] = fibonacci_recursive(n-1, cache) + fibonacci_recursive(n-2, cache)\n",
    "    return cache[n]\n",
    "    \n",
    "print(fibonacci_recursive(2974))"
   ]
  }
 ],
 "metadata": {
  "kernelspec": {
   "display_name": "Python 3",
   "language": "python",
   "name": "python3"
  },
  "language_info": {
   "codemirror_mode": {
    "name": "ipython",
    "version": 3
   },
   "file_extension": ".py",
   "mimetype": "text/x-python",
   "name": "python",
   "nbconvert_exporter": "python",
   "pygments_lexer": "ipython3",
   "version": "3.12.1"
  }
 },
 "nbformat": 4,
 "nbformat_minor": 2
}
